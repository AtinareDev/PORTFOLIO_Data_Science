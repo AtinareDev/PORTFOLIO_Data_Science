{
 "cells": [
  {
   "cell_type": "markdown",
   "id": "71d71460-f024-4abd-a725-092979cadfb7",
   "metadata": {},
   "source": [
    "# Anális de ventas de supermercados:"
   ]
  },
  {
   "cell_type": "markdown",
   "id": "f5a87451-15ce-40b6-8ec4-a7e093519fc3",
   "metadata": {},
   "source": [
    "## Supuesto"
   ]
  },
  {
   "cell_type": "markdown",
   "id": "ea18d271-79a3-4e53-9bdf-3d6230ff3ee3",
   "metadata": {},
   "source": [
    "El archivo `supermercado_ventas.csv` contiene datos generados artificialmente que simulan ventas reales en tres sucursales ubicadas en Madrid, Barcelona y Valencia.\n",
    "\n",
    "Cada fila representa una transacción, e incluye columnas como:\n",
    "\n",
    "- 🏙️ Ciudad y sucursal\n",
    "\n",
    "- 👤 Género y tipo de cliente (Miembro / Normal)\n",
    "\n",
    "- 🛍️ Línea de producto (Lácteos, Carnes, Bebidas, etc.)\n",
    "\n",
    "- 💶 Precio unitario, cantidad, total con IVA\n",
    "\n",
    "- 🕒 Fecha y hora de la compra\n",
    "\n",
    "- 💳 Método de pago\n",
    "\n",
    "- ⭐ Valoración del cliente\n",
    "\n",
    "Se nos solicita hacer el siguiente análisis:\n",
    "\n",
    "-1º Distribución de ventas por ciudad y línea de producto.\n",
    "\n",
    "-2º Comparativa entre clientes normales y miembros.\n",
    "\n",
    "-3º Análisis de género y línea de producto.\n",
    "\n",
    "-4º Ganancias por mes y mes con mas ganancias.\n"
   ]
  },
  {
   "cell_type": "markdown",
   "id": "d178366a-e5df-4b53-8c3d-6dbe0eb4f6d5",
   "metadata": {},
   "source": [
    "## Análisis:"
   ]
  },
  {
   "cell_type": "markdown",
   "id": "cc039b6d-7329-4845-8a46-ce860a0a7987",
   "metadata": {},
   "source": [
    "### Importación de la biblioteca pandas y del dataset:"
   ]
  },
  {
   "cell_type": "code",
   "execution_count": 1,
   "id": "61d4d852-7707-4fe2-83da-03482c7e743c",
   "metadata": {},
   "outputs": [],
   "source": [
    "import pandas as pd\n",
    "df = pd.read_csv(r\"F:\\Python Proyectos Anaconda\\Proyectos_github\\Analisis de Supermercado\\supermercado_ventas.csv\")\n"
   ]
  },
  {
   "cell_type": "markdown",
   "id": "25168906-2d74-4f55-86c5-d7471ff0d6a9",
   "metadata": {},
   "source": [
    "### Aproximación inicial y limpieza de datos:"
   ]
  },
  {
   "cell_type": "code",
   "execution_count": 2,
   "id": "f4cd3ae0-07f6-42ea-8b70-fe7258e2fcf4",
   "metadata": {},
   "outputs": [
    {
     "data": {
      "text/html": [
       "<div>\n",
       "<style scoped>\n",
       "    .dataframe tbody tr th:only-of-type {\n",
       "        vertical-align: middle;\n",
       "    }\n",
       "\n",
       "    .dataframe tbody tr th {\n",
       "        vertical-align: top;\n",
       "    }\n",
       "\n",
       "    .dataframe thead th {\n",
       "        text-align: right;\n",
       "    }\n",
       "</style>\n",
       "<table border=\"1\" class=\"dataframe\">\n",
       "  <thead>\n",
       "    <tr style=\"text-align: right;\">\n",
       "      <th></th>\n",
       "      <th>Ticket ID</th>\n",
       "      <th>Sucursal</th>\n",
       "      <th>Ciudad</th>\n",
       "      <th>Tipo de Cliente</th>\n",
       "      <th>Género</th>\n",
       "      <th>Línea de Producto</th>\n",
       "      <th>Precio Unitario (€)</th>\n",
       "      <th>Cantidad</th>\n",
       "      <th>IVA (€)</th>\n",
       "      <th>Total (€)</th>\n",
       "      <th>Fecha</th>\n",
       "      <th>Hora</th>\n",
       "      <th>Método de Pago</th>\n",
       "      <th>Coste sin IVA (€)</th>\n",
       "      <th>Margen Bruto (%)</th>\n",
       "      <th>Beneficio (€)</th>\n",
       "      <th>Valoración</th>\n",
       "      <th>Ingreso Neto (€)</th>\n",
       "    </tr>\n",
       "  </thead>\n",
       "  <tbody>\n",
       "    <tr>\n",
       "      <th>0</th>\n",
       "      <td>TCKT-1000</td>\n",
       "      <td>Sucursal C</td>\n",
       "      <td>Valencia</td>\n",
       "      <td>Miembro</td>\n",
       "      <td>Hombre</td>\n",
       "      <td>Limpieza</td>\n",
       "      <td>28.23</td>\n",
       "      <td>4</td>\n",
       "      <td>7.90</td>\n",
       "      <td>120.82</td>\n",
       "      <td>2025-05-29</td>\n",
       "      <td>12:07:12</td>\n",
       "      <td>Efectivo</td>\n",
       "      <td>105.535032</td>\n",
       "      <td>0.069976</td>\n",
       "      <td>7.384968</td>\n",
       "      <td>8.4</td>\n",
       "      <td>112.92</td>\n",
       "    </tr>\n",
       "    <tr>\n",
       "      <th>1</th>\n",
       "      <td>TCKT-1001</td>\n",
       "      <td>Sucursal C</td>\n",
       "      <td>Valencia</td>\n",
       "      <td>Miembro</td>\n",
       "      <td>Mujer</td>\n",
       "      <td>Lácteos</td>\n",
       "      <td>3.95</td>\n",
       "      <td>4</td>\n",
       "      <td>1.11</td>\n",
       "      <td>16.91</td>\n",
       "      <td>2025-05-17</td>\n",
       "      <td>03:00:26</td>\n",
       "      <td>Efectivo</td>\n",
       "      <td>14.763520</td>\n",
       "      <td>0.070205</td>\n",
       "      <td>1.036480</td>\n",
       "      <td>7.0</td>\n",
       "      <td>15.80</td>\n",
       "    </tr>\n",
       "    <tr>\n",
       "      <th>2</th>\n",
       "      <td>TCKT-1002</td>\n",
       "      <td>Sucursal A</td>\n",
       "      <td>Madrid</td>\n",
       "      <td>Miembro</td>\n",
       "      <td>Mujer</td>\n",
       "      <td>Carnes</td>\n",
       "      <td>45.47</td>\n",
       "      <td>5</td>\n",
       "      <td>15.91</td>\n",
       "      <td>243.26</td>\n",
       "      <td>2025-06-14</td>\n",
       "      <td>22:17:48</td>\n",
       "      <td>Efectivo</td>\n",
       "      <td>212.481310</td>\n",
       "      <td>0.069976</td>\n",
       "      <td>14.868690</td>\n",
       "      <td>8.6</td>\n",
       "      <td>227.35</td>\n",
       "    </tr>\n",
       "    <tr>\n",
       "      <th>3</th>\n",
       "      <td>TCKT-1003</td>\n",
       "      <td>Sucursal A</td>\n",
       "      <td>Madrid</td>\n",
       "      <td>Normal</td>\n",
       "      <td>Mujer</td>\n",
       "      <td>Frutas y Verduras</td>\n",
       "      <td>16.39</td>\n",
       "      <td>6</td>\n",
       "      <td>6.88</td>\n",
       "      <td>105.22</td>\n",
       "      <td>2025-07-14</td>\n",
       "      <td>00:45:09</td>\n",
       "      <td>Efectivo</td>\n",
       "      <td>91.908564</td>\n",
       "      <td>0.069976</td>\n",
       "      <td>6.431436</td>\n",
       "      <td>4.6</td>\n",
       "      <td>98.34</td>\n",
       "    </tr>\n",
       "    <tr>\n",
       "      <th>4</th>\n",
       "      <td>TCKT-1004</td>\n",
       "      <td>Sucursal A</td>\n",
       "      <td>Madrid</td>\n",
       "      <td>Normal</td>\n",
       "      <td>Mujer</td>\n",
       "      <td>Bebidas</td>\n",
       "      <td>27.19</td>\n",
       "      <td>1</td>\n",
       "      <td>1.90</td>\n",
       "      <td>29.09</td>\n",
       "      <td>2025-06-13</td>\n",
       "      <td>08:46:23</td>\n",
       "      <td>Bizum</td>\n",
       "      <td>25.414493</td>\n",
       "      <td>0.069862</td>\n",
       "      <td>1.775507</td>\n",
       "      <td>6.8</td>\n",
       "      <td>27.19</td>\n",
       "    </tr>\n",
       "  </tbody>\n",
       "</table>\n",
       "</div>"
      ],
      "text/plain": [
       "   Ticket ID    Sucursal    Ciudad Tipo de Cliente  Género  Línea de Producto  \\\n",
       "0  TCKT-1000  Sucursal C  Valencia         Miembro  Hombre           Limpieza   \n",
       "1  TCKT-1001  Sucursal C  Valencia         Miembro   Mujer            Lácteos   \n",
       "2  TCKT-1002  Sucursal A    Madrid         Miembro   Mujer             Carnes   \n",
       "3  TCKT-1003  Sucursal A    Madrid          Normal   Mujer  Frutas y Verduras   \n",
       "4  TCKT-1004  Sucursal A    Madrid          Normal   Mujer            Bebidas   \n",
       "\n",
       "   Precio Unitario (€)  Cantidad  IVA (€)  Total (€)       Fecha      Hora  \\\n",
       "0                28.23         4     7.90     120.82  2025-05-29  12:07:12   \n",
       "1                 3.95         4     1.11      16.91  2025-05-17  03:00:26   \n",
       "2                45.47         5    15.91     243.26  2025-06-14  22:17:48   \n",
       "3                16.39         6     6.88     105.22  2025-07-14  00:45:09   \n",
       "4                27.19         1     1.90      29.09  2025-06-13  08:46:23   \n",
       "\n",
       "  Método de Pago  Coste sin IVA (€)  Margen Bruto (%)  Beneficio (€)  \\\n",
       "0       Efectivo         105.535032          0.069976       7.384968   \n",
       "1       Efectivo          14.763520          0.070205       1.036480   \n",
       "2       Efectivo         212.481310          0.069976      14.868690   \n",
       "3       Efectivo          91.908564          0.069976       6.431436   \n",
       "4          Bizum          25.414493          0.069862       1.775507   \n",
       "\n",
       "   Valoración  Ingreso Neto (€)  \n",
       "0         8.4            112.92  \n",
       "1         7.0             15.80  \n",
       "2         8.6            227.35  \n",
       "3         4.6             98.34  \n",
       "4         6.8             27.19  "
      ]
     },
     "execution_count": 2,
     "metadata": {},
     "output_type": "execute_result"
    }
   ],
   "source": [
    "df.head(5)"
   ]
  },
  {
   "cell_type": "code",
   "execution_count": 3,
   "id": "ce4c4230-fa5f-4d7a-8d65-9e54ccfaed70",
   "metadata": {},
   "outputs": [
    {
     "name": "stdout",
     "output_type": "stream",
     "text": [
      "<class 'pandas.core.frame.DataFrame'>\n",
      "RangeIndex: 1000 entries, 0 to 999\n",
      "Data columns (total 18 columns):\n",
      " #   Column               Non-Null Count  Dtype  \n",
      "---  ------               --------------  -----  \n",
      " 0   Ticket ID            1000 non-null   object \n",
      " 1   Sucursal             1000 non-null   object \n",
      " 2   Ciudad               1000 non-null   object \n",
      " 3   Tipo de Cliente      1000 non-null   object \n",
      " 4   Género               1000 non-null   object \n",
      " 5   Línea de Producto    1000 non-null   object \n",
      " 6   Precio Unitario (€)  1000 non-null   float64\n",
      " 7   Cantidad             1000 non-null   int64  \n",
      " 8   IVA (€)              1000 non-null   float64\n",
      " 9   Total (€)            1000 non-null   float64\n",
      " 10  Fecha                1000 non-null   object \n",
      " 11  Hora                 1000 non-null   object \n",
      " 12  Método de Pago       1000 non-null   object \n",
      " 13  Coste sin IVA (€)    1000 non-null   float64\n",
      " 14  Margen Bruto (%)     1000 non-null   float64\n",
      " 15  Beneficio (€)        1000 non-null   float64\n",
      " 16  Valoración           1000 non-null   float64\n",
      " 17  Ingreso Neto (€)     1000 non-null   float64\n",
      "dtypes: float64(8), int64(1), object(9)\n",
      "memory usage: 140.8+ KB\n"
     ]
    }
   ],
   "source": [
    "df.info()"
   ]
  },
  {
   "cell_type": "code",
   "execution_count": 4,
   "id": "9167e670-3ab1-49b2-bc4d-c5363982e188",
   "metadata": {},
   "outputs": [
    {
     "data": {
      "text/plain": [
       "Ticket ID              0\n",
       "Sucursal               0\n",
       "Ciudad                 0\n",
       "Tipo de Cliente        0\n",
       "Género                 0\n",
       "Línea de Producto      0\n",
       "Precio Unitario (€)    0\n",
       "Cantidad               0\n",
       "IVA (€)                0\n",
       "Total (€)              0\n",
       "Fecha                  0\n",
       "Hora                   0\n",
       "Método de Pago         0\n",
       "Coste sin IVA (€)      0\n",
       "Margen Bruto (%)       0\n",
       "Beneficio (€)          0\n",
       "Valoración             0\n",
       "Ingreso Neto (€)       0\n",
       "dtype: int64"
      ]
     },
     "execution_count": 4,
     "metadata": {},
     "output_type": "execute_result"
    }
   ],
   "source": [
    "df.isnull().sum()"
   ]
  },
  {
   "cell_type": "markdown",
   "id": "8029ca8d-ac28-4f45-a2c1-6351764669cf",
   "metadata": {},
   "source": [
    "**Observaciones:**\n",
    "- Se trata de 1000 registros, con 18 columnas.\n",
    "- No existen valores nulos que limpiar o sustituir.\n",
    "- Los valores de Fecha estan en String, por lo que habrá que pasarlos a formato dateTime si se quiere trabajar con ellos.\n",
    "- Los valores en euros estan en formato correcto (float)."
   ]
  },
  {
   "cell_type": "markdown",
   "id": "a1490a83-c532-4d2c-9c5d-11158e217878",
   "metadata": {},
   "source": [
    "### 1º Distribución de ventas por ciudad y línea de producto:"
   ]
  },
  {
   "cell_type": "markdown",
   "id": "1c40f1bc-733d-4ed7-a191-d23e2af87347",
   "metadata": {},
   "source": [
    "Para ello agruparemos la cantidad de ventas por ciudad."
   ]
  },
  {
   "cell_type": "code",
   "execution_count": 5,
   "id": "5dcc96be-073b-40cb-8ea7-80f7a60d2fca",
   "metadata": {},
   "outputs": [
    {
     "data": {
      "text/html": [
       "<div>\n",
       "<style scoped>\n",
       "    .dataframe tbody tr th:only-of-type {\n",
       "        vertical-align: middle;\n",
       "    }\n",
       "\n",
       "    .dataframe tbody tr th {\n",
       "        vertical-align: top;\n",
       "    }\n",
       "\n",
       "    .dataframe thead th {\n",
       "        text-align: right;\n",
       "    }\n",
       "</style>\n",
       "<table border=\"1\" class=\"dataframe\">\n",
       "  <thead>\n",
       "    <tr style=\"text-align: right;\">\n",
       "      <th></th>\n",
       "      <th>Cantidad</th>\n",
       "      <th>Ingreso Neto (€)</th>\n",
       "      <th>Beneficio (€)</th>\n",
       "    </tr>\n",
       "    <tr>\n",
       "      <th>Ciudad</th>\n",
       "      <th></th>\n",
       "      <th></th>\n",
       "      <th></th>\n",
       "    </tr>\n",
       "  </thead>\n",
       "  <tbody>\n",
       "    <tr>\n",
       "      <th>Valencia</th>\n",
       "      <td>2045</td>\n",
       "      <td>99451.77</td>\n",
       "      <td>6504.38</td>\n",
       "    </tr>\n",
       "    <tr>\n",
       "      <th>Barcelona</th>\n",
       "      <td>1859</td>\n",
       "      <td>90374.06</td>\n",
       "      <td>5910.61</td>\n",
       "    </tr>\n",
       "    <tr>\n",
       "      <th>Madrid</th>\n",
       "      <td>1707</td>\n",
       "      <td>85925.10</td>\n",
       "      <td>5619.57</td>\n",
       "    </tr>\n",
       "  </tbody>\n",
       "</table>\n",
       "</div>"
      ],
      "text/plain": [
       "           Cantidad  Ingreso Neto (€)  Beneficio (€)\n",
       "Ciudad                                              \n",
       "Valencia       2045          99451.77        6504.38\n",
       "Barcelona      1859          90374.06        5910.61\n",
       "Madrid         1707          85925.10        5619.57"
      ]
     },
     "execution_count": 5,
     "metadata": {},
     "output_type": "execute_result"
    }
   ],
   "source": [
    "ventas_por_ciudad = pd.DataFrame(df.groupby(\"Ciudad\").agg({\n",
    "    \"Cantidad\": \"sum\",\n",
    "    \"Ingreso Neto (€)\": \"sum\",\n",
    "    \"Beneficio (€)\": \"sum\"\n",
    "}).sort_values(by=\"Cantidad\", ascending=False)).round(2)\n",
    "\n",
    "ventas_por_ciudad\n",
    "\n"
   ]
  },
  {
   "cell_type": "markdown",
   "id": "21c2bf4c-ed6d-4b6f-97d5-9c89453f3510",
   "metadata": {},
   "source": [
    "**La ciudad con mayor numero de ventas totales es Valencia con 2045 transacciones**"
   ]
  },
  {
   "cell_type": "markdown",
   "id": "8fdfd8e0-e7d7-43f6-9838-20dee5f2e793",
   "metadata": {},
   "source": [
    "Agrupamos las ventas por ciudad y tipo de producto con sus cantidades, y ordenamos por ciudad primero y luego por cantidad. De esta forma sabremos que es lo que mas se vende en cada ciudad de cada tipo."
   ]
  },
  {
   "cell_type": "code",
   "execution_count": 6,
   "id": "dd98172d-0fb4-4e1f-961b-a21e32cbca66",
   "metadata": {},
   "outputs": [
    {
     "data": {
      "text/html": [
       "<div>\n",
       "<style scoped>\n",
       "    .dataframe tbody tr th:only-of-type {\n",
       "        vertical-align: middle;\n",
       "    }\n",
       "\n",
       "    .dataframe tbody tr th {\n",
       "        vertical-align: top;\n",
       "    }\n",
       "\n",
       "    .dataframe thead th {\n",
       "        text-align: right;\n",
       "    }\n",
       "</style>\n",
       "<table border=\"1\" class=\"dataframe\">\n",
       "  <thead>\n",
       "    <tr style=\"text-align: right;\">\n",
       "      <th></th>\n",
       "      <th>Ciudad</th>\n",
       "      <th>Línea de Producto</th>\n",
       "      <th>Cantidad</th>\n",
       "    </tr>\n",
       "  </thead>\n",
       "  <tbody>\n",
       "    <tr>\n",
       "      <th>0</th>\n",
       "      <td>Barcelona</td>\n",
       "      <td>Bebidas</td>\n",
       "      <td>393</td>\n",
       "    </tr>\n",
       "    <tr>\n",
       "      <th>1</th>\n",
       "      <td>Barcelona</td>\n",
       "      <td>Carnes</td>\n",
       "      <td>342</td>\n",
       "    </tr>\n",
       "    <tr>\n",
       "      <th>5</th>\n",
       "      <td>Barcelona</td>\n",
       "      <td>Panadería</td>\n",
       "      <td>333</td>\n",
       "    </tr>\n",
       "    <tr>\n",
       "      <th>4</th>\n",
       "      <td>Barcelona</td>\n",
       "      <td>Lácteos</td>\n",
       "      <td>306</td>\n",
       "    </tr>\n",
       "    <tr>\n",
       "      <th>3</th>\n",
       "      <td>Barcelona</td>\n",
       "      <td>Limpieza</td>\n",
       "      <td>271</td>\n",
       "    </tr>\n",
       "    <tr>\n",
       "      <th>2</th>\n",
       "      <td>Barcelona</td>\n",
       "      <td>Frutas y Verduras</td>\n",
       "      <td>214</td>\n",
       "    </tr>\n",
       "    <tr>\n",
       "      <th>11</th>\n",
       "      <td>Madrid</td>\n",
       "      <td>Panadería</td>\n",
       "      <td>395</td>\n",
       "    </tr>\n",
       "    <tr>\n",
       "      <th>7</th>\n",
       "      <td>Madrid</td>\n",
       "      <td>Carnes</td>\n",
       "      <td>294</td>\n",
       "    </tr>\n",
       "    <tr>\n",
       "      <th>6</th>\n",
       "      <td>Madrid</td>\n",
       "      <td>Bebidas</td>\n",
       "      <td>279</td>\n",
       "    </tr>\n",
       "    <tr>\n",
       "      <th>8</th>\n",
       "      <td>Madrid</td>\n",
       "      <td>Frutas y Verduras</td>\n",
       "      <td>271</td>\n",
       "    </tr>\n",
       "    <tr>\n",
       "      <th>9</th>\n",
       "      <td>Madrid</td>\n",
       "      <td>Limpieza</td>\n",
       "      <td>240</td>\n",
       "    </tr>\n",
       "    <tr>\n",
       "      <th>10</th>\n",
       "      <td>Madrid</td>\n",
       "      <td>Lácteos</td>\n",
       "      <td>228</td>\n",
       "    </tr>\n",
       "    <tr>\n",
       "      <th>16</th>\n",
       "      <td>Valencia</td>\n",
       "      <td>Lácteos</td>\n",
       "      <td>404</td>\n",
       "    </tr>\n",
       "    <tr>\n",
       "      <th>17</th>\n",
       "      <td>Valencia</td>\n",
       "      <td>Panadería</td>\n",
       "      <td>364</td>\n",
       "    </tr>\n",
       "    <tr>\n",
       "      <th>14</th>\n",
       "      <td>Valencia</td>\n",
       "      <td>Frutas y Verduras</td>\n",
       "      <td>341</td>\n",
       "    </tr>\n",
       "    <tr>\n",
       "      <th>13</th>\n",
       "      <td>Valencia</td>\n",
       "      <td>Carnes</td>\n",
       "      <td>339</td>\n",
       "    </tr>\n",
       "    <tr>\n",
       "      <th>15</th>\n",
       "      <td>Valencia</td>\n",
       "      <td>Limpieza</td>\n",
       "      <td>301</td>\n",
       "    </tr>\n",
       "    <tr>\n",
       "      <th>12</th>\n",
       "      <td>Valencia</td>\n",
       "      <td>Bebidas</td>\n",
       "      <td>296</td>\n",
       "    </tr>\n",
       "  </tbody>\n",
       "</table>\n",
       "</div>"
      ],
      "text/plain": [
       "       Ciudad  Línea de Producto  Cantidad\n",
       "0   Barcelona            Bebidas       393\n",
       "1   Barcelona             Carnes       342\n",
       "5   Barcelona          Panadería       333\n",
       "4   Barcelona            Lácteos       306\n",
       "3   Barcelona           Limpieza       271\n",
       "2   Barcelona  Frutas y Verduras       214\n",
       "11     Madrid          Panadería       395\n",
       "7      Madrid             Carnes       294\n",
       "6      Madrid            Bebidas       279\n",
       "8      Madrid  Frutas y Verduras       271\n",
       "9      Madrid           Limpieza       240\n",
       "10     Madrid            Lácteos       228\n",
       "16   Valencia            Lácteos       404\n",
       "17   Valencia          Panadería       364\n",
       "14   Valencia  Frutas y Verduras       341\n",
       "13   Valencia             Carnes       339\n",
       "15   Valencia           Limpieza       301\n",
       "12   Valencia            Bebidas       296"
      ]
     },
     "execution_count": 6,
     "metadata": {},
     "output_type": "execute_result"
    }
   ],
   "source": [
    "df_ventas_por_ciudad_y_linea = df.groupby([\"Ciudad\", \"Línea de Producto\"])[\"Cantidad\"].sum().reset_index()\n",
    "df_ventas_por_ciudad_y_linea.sort_values(by=[\"Ciudad\", \"Cantidad\"], ascending=[True, False], inplace=True)\n",
    "df_ventas_por_ciudad_y_linea"
   ]
  },
  {
   "cell_type": "markdown",
   "id": "d96b216c-7d5a-4646-90e5-fdd18f54309b",
   "metadata": {},
   "source": [
    "- **En Valencia, la ciudad con mas ventas, el producto mas demandado es lacteos.**\n",
    "- **En Barcelona, la segunda con mas ventas, el producto mas demandado es bebidas.**\n",
    "- **En Madrid, el producto mas demandado es Panaderia.**"
   ]
  },
  {
   "cell_type": "code",
   "execution_count": 7,
   "id": "72935328-a9df-4b39-a832-a86273b8f79d",
   "metadata": {},
   "outputs": [
    {
     "data": {
      "text/plain": [
       "Línea de Producto\n",
       "Panadería    1092\n",
       "Carnes        975\n",
       "Bebidas       968\n",
       "Name: Cantidad, dtype: int64"
      ]
     },
     "execution_count": 7,
     "metadata": {},
     "output_type": "execute_result"
    }
   ],
   "source": [
    "top_3_productos_mas_vendidos = df.groupby(\"Línea de Producto\")[\"Cantidad\"].sum().sort_values(ascending=False).head(3)\n",
    "top_3_productos_mas_vendidos\n"
   ]
  },
  {
   "cell_type": "markdown",
   "id": "4ac2cc61-5fc1-4f88-bc57-3026bdcc08a9",
   "metadata": {},
   "source": [
    "**Los 3 tipos de productos mas vendidos, entre todas las ciudades son: Panaderia,Carnes y Bebidas**"
   ]
  },
  {
   "cell_type": "markdown",
   "id": "ac5ccb6c-350f-4f01-9b46-259989a2a12f",
   "metadata": {},
   "source": [
    "### 2º Comparativa entre clientes normales y miembros:"
   ]
  },
  {
   "cell_type": "markdown",
   "id": "d809b9c6-4fa1-4104-84d6-01e9b28f3d26",
   "metadata": {},
   "source": [
    "De cara a evaluar si merece la pena invertir mas recursos en un programa de fidelización. Por ello podriamos revisar:\n",
    "- Valoración del servicio por clientes normales y miembros: ¿Están satisfechos con el servicio?\n",
    "- Método de pago preferido: ¿Son necesarias modificaciones en las formas de pago?\n",
    "- Total de ingresos generados: ¿De que tipo son los clientes que suponen una repercusión mayor en los beneficios?"
   ]
  },
  {
   "cell_type": "markdown",
   "id": "e2b8c2a1-6b53-41c6-9a30-d9265b53c41c",
   "metadata": {},
   "source": [
    "Valoración: Agrupamos los clientes por tipo y valoracion y buscamos el promedio de valoraciones."
   ]
  },
  {
   "cell_type": "code",
   "execution_count": 8,
   "id": "9dd2c8ad-c286-42b9-ab79-2a6f4e7e7cb6",
   "metadata": {},
   "outputs": [
    {
     "data": {
      "text/plain": [
       "Tipo de Cliente\n",
       "Miembro    7.140000\n",
       "Normal     6.857255\n",
       "Name: Valoración, dtype: float64"
      ]
     },
     "execution_count": 8,
     "metadata": {},
     "output_type": "execute_result"
    }
   ],
   "source": [
    "df_valoración = df.groupby(\"Tipo de Cliente\")[\"Valoración\"].mean()\n",
    "df_valoración"
   ]
  },
  {
   "cell_type": "markdown",
   "id": "cdf95213-52f7-4e00-a1d3-3c23e98082ef",
   "metadata": {},
   "source": [
    "**Encontramos que, en general, la valoración de los clientes miembros, es superior a los clientes normales.**"
   ]
  },
  {
   "cell_type": "markdown",
   "id": "dc97378d-9523-4a70-8914-a23a52b3a5b0",
   "metadata": {},
   "source": [
    "Forma de pago: Vamos a revisar ahora el método de pago preferido por tipo de cliente."
   ]
  },
  {
   "cell_type": "code",
   "execution_count": 9,
   "id": "458f2e7c-e31a-4384-948e-35702b52d59c",
   "metadata": {},
   "outputs": [
    {
     "data": {
      "text/html": [
       "<div>\n",
       "<style scoped>\n",
       "    .dataframe tbody tr th:only-of-type {\n",
       "        vertical-align: middle;\n",
       "    }\n",
       "\n",
       "    .dataframe tbody tr th {\n",
       "        vertical-align: top;\n",
       "    }\n",
       "\n",
       "    .dataframe thead th {\n",
       "        text-align: right;\n",
       "    }\n",
       "</style>\n",
       "<table border=\"1\" class=\"dataframe\">\n",
       "  <thead>\n",
       "    <tr style=\"text-align: right;\">\n",
       "      <th>Método de Pago</th>\n",
       "      <th>Bizum</th>\n",
       "      <th>Efectivo</th>\n",
       "      <th>Tarjeta de Crédito</th>\n",
       "    </tr>\n",
       "    <tr>\n",
       "      <th>Tipo de Cliente</th>\n",
       "      <th></th>\n",
       "      <th></th>\n",
       "      <th></th>\n",
       "    </tr>\n",
       "  </thead>\n",
       "  <tbody>\n",
       "    <tr>\n",
       "      <th>Miembro</th>\n",
       "      <td>161</td>\n",
       "      <td>177</td>\n",
       "      <td>152</td>\n",
       "    </tr>\n",
       "    <tr>\n",
       "      <th>Normal</th>\n",
       "      <td>174</td>\n",
       "      <td>166</td>\n",
       "      <td>170</td>\n",
       "    </tr>\n",
       "  </tbody>\n",
       "</table>\n",
       "</div>"
      ],
      "text/plain": [
       "Método de Pago   Bizum  Efectivo  Tarjeta de Crédito\n",
       "Tipo de Cliente                                     \n",
       "Miembro            161       177                 152\n",
       "Normal             174       166                 170"
      ]
     },
     "execution_count": 9,
     "metadata": {},
     "output_type": "execute_result"
    }
   ],
   "source": [
    "df_pago_preferido = df.groupby(\"Tipo de Cliente\")[\"Método de Pago\"].value_counts().unstack()\n",
    "df_pago_preferido"
   ]
  },
  {
   "cell_type": "markdown",
   "id": "336849b4-12b5-417b-840c-5d09516e484d",
   "metadata": {},
   "source": [
    "**No existen grandes diferencias entre clientes normales y premium en métodos de pago. Si, por ejemplo, una de las formas de pago fuera muy inferiormente utilizada frente al resto, podría ser interesante cancelar el soporte a esa forma de cara al ahorro de costes.**"
   ]
  },
  {
   "cell_type": "markdown",
   "id": "9cf22402-7f28-4ff0-9459-d47511d8523d",
   "metadata": {},
   "source": [
    "Ingresos por tipo de cliente: Por ultimo, analizaremos los ingresos generados por ambos tipos de cliente."
   ]
  },
  {
   "cell_type": "markdown",
   "id": "872b34cc-4daf-4d3e-974d-8b5a2cb1e773",
   "metadata": {},
   "source": [
    "Calculamos el beneficio total de la empresa y los ingresos provenientes de ambos tipos de cliente:"
   ]
  },
  {
   "cell_type": "code",
   "execution_count": 10,
   "id": "4f83803f-31dc-46c0-ab85-4f693f9c0fff",
   "metadata": {},
   "outputs": [
    {
     "name": "stdout",
     "output_type": "stream",
     "text": [
      "18034.56\n"
     ]
    }
   ],
   "source": [
    "total_beneficio = df['Beneficio (€)'].sum().round(2)\n",
    "print(total_beneficio)"
   ]
  },
  {
   "cell_type": "code",
   "execution_count": 11,
   "id": "387df3a1-7e67-488c-8293-c4983f353326",
   "metadata": {},
   "outputs": [
    {
     "data": {
      "text/html": [
       "<div>\n",
       "<style scoped>\n",
       "    .dataframe tbody tr th:only-of-type {\n",
       "        vertical-align: middle;\n",
       "    }\n",
       "\n",
       "    .dataframe tbody tr th {\n",
       "        vertical-align: top;\n",
       "    }\n",
       "\n",
       "    .dataframe thead th {\n",
       "        text-align: right;\n",
       "    }\n",
       "</style>\n",
       "<table border=\"1\" class=\"dataframe\">\n",
       "  <thead>\n",
       "    <tr style=\"text-align: right;\">\n",
       "      <th></th>\n",
       "      <th>Beneficio (€)</th>\n",
       "      <th>Porcentaje (%)</th>\n",
       "    </tr>\n",
       "    <tr>\n",
       "      <th>Tipo de Cliente</th>\n",
       "      <th></th>\n",
       "      <th></th>\n",
       "    </tr>\n",
       "  </thead>\n",
       "  <tbody>\n",
       "    <tr>\n",
       "      <th>Miembro</th>\n",
       "      <td>8418.16</td>\n",
       "      <td>46.68</td>\n",
       "    </tr>\n",
       "    <tr>\n",
       "      <th>Normal</th>\n",
       "      <td>9616.40</td>\n",
       "      <td>53.32</td>\n",
       "    </tr>\n",
       "  </tbody>\n",
       "</table>\n",
       "</div>"
      ],
      "text/plain": [
       "                 Beneficio (€)  Porcentaje (%)\n",
       "Tipo de Cliente                               \n",
       "Miembro                8418.16           46.68\n",
       "Normal                 9616.40           53.32"
      ]
     },
     "execution_count": 11,
     "metadata": {},
     "output_type": "execute_result"
    }
   ],
   "source": [
    "beneficio_por_cliente = df.groupby('Tipo de Cliente')['Beneficio (€)'].sum()\n",
    "\n",
    "porcentaje_beneficio = (beneficio_por_cliente / total_beneficio) * 100\n",
    "\n",
    "resultado = pd.DataFrame({\n",
    "    'Beneficio (€)': beneficio_por_cliente,\n",
    "    'Porcentaje (%)': porcentaje_beneficio\n",
    "}).round(2)\n",
    "resultado"
   ]
  },
  {
   "cell_type": "markdown",
   "id": "ea5bf18b-a8cc-46be-9023-7b654931e0d8",
   "metadata": {},
   "source": [
    "**Los beneficios por parte de los clientes miembros son menores que los clientes. Vamos a analizarlo más a fondo:**"
   ]
  },
  {
   "cell_type": "markdown",
   "id": "3234cb5e-e1e1-443c-bc8f-3ad5210314dd",
   "metadata": {},
   "source": [
    "Ventas totales (clientes y miembros):"
   ]
  },
  {
   "cell_type": "code",
   "execution_count": 12,
   "id": "ac949262-5872-4056-a3a1-ecd196f222b8",
   "metadata": {},
   "outputs": [
    {
     "data": {
      "text/plain": [
       "Tipo de Cliente\n",
       "Normal     510\n",
       "Miembro    490\n",
       "Name: count, dtype: int64"
      ]
     },
     "execution_count": 12,
     "metadata": {},
     "output_type": "execute_result"
    }
   ],
   "source": [
    "tickets_por_tipo = df['Tipo de Cliente'].value_counts()\n",
    "tickets_por_tipo"
   ]
  },
  {
   "cell_type": "markdown",
   "id": "6bdeb42e-f148-43a0-a242-c2132b12fd5e",
   "metadata": {},
   "source": [
    "DataFrame que relaciona a los tickets, con el tipo de cliente y el beneficio generado:"
   ]
  },
  {
   "cell_type": "code",
   "execution_count": 13,
   "id": "ee6ffe05-3479-4c45-bc78-8c42bf8a6c5f",
   "metadata": {},
   "outputs": [
    {
     "data": {
      "text/html": [
       "<div>\n",
       "<style scoped>\n",
       "    .dataframe tbody tr th:only-of-type {\n",
       "        vertical-align: middle;\n",
       "    }\n",
       "\n",
       "    .dataframe tbody tr th {\n",
       "        vertical-align: top;\n",
       "    }\n",
       "\n",
       "    .dataframe thead th {\n",
       "        text-align: right;\n",
       "    }\n",
       "</style>\n",
       "<table border=\"1\" class=\"dataframe\">\n",
       "  <thead>\n",
       "    <tr style=\"text-align: right;\">\n",
       "      <th></th>\n",
       "      <th>Tickets</th>\n",
       "      <th>Beneficio Total (€)</th>\n",
       "    </tr>\n",
       "    <tr>\n",
       "      <th>Tipo de Cliente</th>\n",
       "      <th></th>\n",
       "      <th></th>\n",
       "    </tr>\n",
       "  </thead>\n",
       "  <tbody>\n",
       "    <tr>\n",
       "      <th>Miembro</th>\n",
       "      <td>490</td>\n",
       "      <td>8418.16</td>\n",
       "    </tr>\n",
       "    <tr>\n",
       "      <th>Normal</th>\n",
       "      <td>510</td>\n",
       "      <td>9616.40</td>\n",
       "    </tr>\n",
       "  </tbody>\n",
       "</table>\n",
       "</div>"
      ],
      "text/plain": [
       "                 Tickets  Beneficio Total (€)\n",
       "Tipo de Cliente                              \n",
       "Miembro              490              8418.16\n",
       "Normal               510              9616.40"
      ]
     },
     "execution_count": 13,
     "metadata": {},
     "output_type": "execute_result"
    }
   ],
   "source": [
    "resultado = pd.DataFrame({\n",
    "    'Tickets': tickets_por_tipo,\n",
    "    'Beneficio Total (€)': beneficio_por_cliente\n",
    "}).fillna(0)\n",
    "resultado[\"Beneficio Total (€)\"] = resultado[\"Beneficio Total (€)\"].round(2)\n",
    "resultado"
   ]
  },
  {
   "cell_type": "markdown",
   "id": "66a7eb06-fda5-4776-8300-0c6f43ee0449",
   "metadata": {},
   "source": [
    "Calculamos el beneficio medio por ticket:"
   ]
  },
  {
   "cell_type": "code",
   "execution_count": 14,
   "id": "f3a7d6a3-5397-4b4b-974c-6c60755a307d",
   "metadata": {},
   "outputs": [
    {
     "data": {
      "text/html": [
       "<div>\n",
       "<style scoped>\n",
       "    .dataframe tbody tr th:only-of-type {\n",
       "        vertical-align: middle;\n",
       "    }\n",
       "\n",
       "    .dataframe tbody tr th {\n",
       "        vertical-align: top;\n",
       "    }\n",
       "\n",
       "    .dataframe thead th {\n",
       "        text-align: right;\n",
       "    }\n",
       "</style>\n",
       "<table border=\"1\" class=\"dataframe\">\n",
       "  <thead>\n",
       "    <tr style=\"text-align: right;\">\n",
       "      <th></th>\n",
       "      <th>Tickets</th>\n",
       "      <th>Beneficio Total (€)</th>\n",
       "      <th>Beneficio Medio por Ticket (€)</th>\n",
       "    </tr>\n",
       "    <tr>\n",
       "      <th>Tipo de Cliente</th>\n",
       "      <th></th>\n",
       "      <th></th>\n",
       "      <th></th>\n",
       "    </tr>\n",
       "  </thead>\n",
       "  <tbody>\n",
       "    <tr>\n",
       "      <th>Miembro</th>\n",
       "      <td>490</td>\n",
       "      <td>8418.16</td>\n",
       "      <td>17.18</td>\n",
       "    </tr>\n",
       "    <tr>\n",
       "      <th>Normal</th>\n",
       "      <td>510</td>\n",
       "      <td>9616.40</td>\n",
       "      <td>18.86</td>\n",
       "    </tr>\n",
       "  </tbody>\n",
       "</table>\n",
       "</div>"
      ],
      "text/plain": [
       "                 Tickets  Beneficio Total (€)  Beneficio Medio por Ticket (€)\n",
       "Tipo de Cliente                                                              \n",
       "Miembro              490              8418.16                           17.18\n",
       "Normal               510              9616.40                           18.86"
      ]
     },
     "execution_count": 14,
     "metadata": {},
     "output_type": "execute_result"
    }
   ],
   "source": [
    "resultado['Beneficio Medio por Ticket (€)'] = (resultado['Beneficio Total (€)'] / resultado['Tickets']).round(2)\n",
    "resultado"
   ]
  },
  {
   "cell_type": "markdown",
   "id": "454b9703-7a51-4860-94a3-219dfc9bd202",
   "metadata": {},
   "source": [
    "**La conclusion a la que llegamos es, que pese a que la valoración de los miembros de la calidad del servicio es ligeramente superior a los clientes normales, en terminos económicos se genera mas ingresos por parte de los clientes normales, lo cual reflejaria la necesidad de cambios en el sistema ya que probablemente los costes de mantenimiento y deploy de dicha membresia no estan siendo rentables.**"
   ]
  },
  {
   "cell_type": "markdown",
   "id": "462a39bc-ef6b-4b48-b610-690ae6595ed2",
   "metadata": {},
   "source": [
    "### 3º Análisis de género y línea de producto:"
   ]
  },
  {
   "cell_type": "code",
   "execution_count": 15,
   "id": "c977ecd1-f9ad-494d-a08d-0a87919fc6b2",
   "metadata": {},
   "outputs": [
    {
     "data": {
      "text/html": [
       "<div>\n",
       "<style scoped>\n",
       "    .dataframe tbody tr th:only-of-type {\n",
       "        vertical-align: middle;\n",
       "    }\n",
       "\n",
       "    .dataframe tbody tr th {\n",
       "        vertical-align: top;\n",
       "    }\n",
       "\n",
       "    .dataframe thead th {\n",
       "        text-align: right;\n",
       "    }\n",
       "</style>\n",
       "<table border=\"1\" class=\"dataframe\">\n",
       "  <thead>\n",
       "    <tr style=\"text-align: right;\">\n",
       "      <th>Género</th>\n",
       "      <th>Hombre</th>\n",
       "      <th>Mujer</th>\n",
       "    </tr>\n",
       "    <tr>\n",
       "      <th>Línea de Producto</th>\n",
       "      <th></th>\n",
       "      <th></th>\n",
       "    </tr>\n",
       "  </thead>\n",
       "  <tbody>\n",
       "    <tr>\n",
       "      <th>Bebidas</th>\n",
       "      <td>95</td>\n",
       "      <td>74</td>\n",
       "    </tr>\n",
       "    <tr>\n",
       "      <th>Carnes</th>\n",
       "      <td>80</td>\n",
       "      <td>85</td>\n",
       "    </tr>\n",
       "    <tr>\n",
       "      <th>Frutas y Verduras</th>\n",
       "      <td>81</td>\n",
       "      <td>76</td>\n",
       "    </tr>\n",
       "    <tr>\n",
       "      <th>Limpieza</th>\n",
       "      <td>67</td>\n",
       "      <td>83</td>\n",
       "    </tr>\n",
       "    <tr>\n",
       "      <th>Lácteos</th>\n",
       "      <td>81</td>\n",
       "      <td>83</td>\n",
       "    </tr>\n",
       "    <tr>\n",
       "      <th>Panadería</th>\n",
       "      <td>86</td>\n",
       "      <td>109</td>\n",
       "    </tr>\n",
       "  </tbody>\n",
       "</table>\n",
       "</div>"
      ],
      "text/plain": [
       "Género             Hombre  Mujer\n",
       "Línea de Producto               \n",
       "Bebidas                95     74\n",
       "Carnes                 80     85\n",
       "Frutas y Verduras      81     76\n",
       "Limpieza               67     83\n",
       "Lácteos                81     83\n",
       "Panadería              86    109"
      ]
     },
     "execution_count": 15,
     "metadata": {},
     "output_type": "execute_result"
    }
   ],
   "source": [
    "df.groupby([\"Línea de Producto\", \"Género\"]).size().unstack()"
   ]
  },
  {
   "cell_type": "markdown",
   "id": "7fd3116e-2fcd-4bd6-aa86-892e65d33c76",
   "metadata": {},
   "source": [
    "**Esto serian las tendencias de compra segun el género del cliente**"
   ]
  },
  {
   "cell_type": "code",
   "execution_count": 16,
   "id": "8b32cabc-56e9-483b-877c-47e6c40d19d8",
   "metadata": {},
   "outputs": [
    {
     "data": {
      "text/html": [
       "<div>\n",
       "<style scoped>\n",
       "    .dataframe tbody tr th:only-of-type {\n",
       "        vertical-align: middle;\n",
       "    }\n",
       "\n",
       "    .dataframe tbody tr th {\n",
       "        vertical-align: top;\n",
       "    }\n",
       "\n",
       "    .dataframe thead th {\n",
       "        text-align: right;\n",
       "    }\n",
       "</style>\n",
       "<table border=\"1\" class=\"dataframe\">\n",
       "  <thead>\n",
       "    <tr style=\"text-align: right;\">\n",
       "      <th>Tipo de Cliente</th>\n",
       "      <th>Miembro</th>\n",
       "      <th>Normal</th>\n",
       "    </tr>\n",
       "    <tr>\n",
       "      <th>Género</th>\n",
       "      <th></th>\n",
       "      <th></th>\n",
       "    </tr>\n",
       "  </thead>\n",
       "  <tbody>\n",
       "    <tr>\n",
       "      <th>Hombre</th>\n",
       "      <td>245</td>\n",
       "      <td>245</td>\n",
       "    </tr>\n",
       "    <tr>\n",
       "      <th>Mujer</th>\n",
       "      <td>245</td>\n",
       "      <td>265</td>\n",
       "    </tr>\n",
       "  </tbody>\n",
       "</table>\n",
       "</div>"
      ],
      "text/plain": [
       "Tipo de Cliente  Miembro  Normal\n",
       "Género                          \n",
       "Hombre               245     245\n",
       "Mujer                245     265"
      ]
     },
     "execution_count": 16,
     "metadata": {},
     "output_type": "execute_result"
    }
   ],
   "source": [
    "df.groupby([\"Género\", \"Tipo de Cliente\"]).size().unstack()"
   ]
  },
  {
   "cell_type": "markdown",
   "id": "d178d75c-9a36-4110-823c-33cd4a0c3de8",
   "metadata": {},
   "source": [
    "**Distribución de género entre clientes normales y miembros**"
   ]
  },
  {
   "cell_type": "markdown",
   "id": "827989b4-b83e-4b9d-9f7c-e9677acf912b",
   "metadata": {},
   "source": [
    "### 4º Ganancias por mes y mes con mas ganancias."
   ]
  },
  {
   "cell_type": "markdown",
   "id": "f7301242-df85-4bbc-898c-5fae573aec4e",
   "metadata": {},
   "source": [
    "Convertimos fecha (string) a dateTime para poder trabajar con ellas, pero no sobre el df original, ya que es posible que se quiera visualizar con otro formato como el europeo (d/m/y), y es preferible mantener esa columna como referencia string. Es por ello que lo hacemos en una variable aparte y añadimos una columna meses sobre la que efectivamente trabajar."
   ]
  },
  {
   "cell_type": "code",
   "execution_count": 17,
   "id": "27908284-07f1-4959-89c1-fc224ce66315",
   "metadata": {},
   "outputs": [],
   "source": [
    "df_fecha = pd.to_datetime(df['Fecha'])"
   ]
  },
  {
   "cell_type": "markdown",
   "id": "ecb06848-874c-41f6-b136-1641e8999871",
   "metadata": {},
   "source": [
    "Creamos una columna para los meses"
   ]
  },
  {
   "cell_type": "code",
   "execution_count": 18,
   "id": "de481cf1-b587-49c7-871f-83baa174d81d",
   "metadata": {},
   "outputs": [],
   "source": [
    "df['Mes'] = df_fecha.dt.to_period('M')"
   ]
  },
  {
   "cell_type": "markdown",
   "id": "a9030596-9780-495f-a5da-aaa9fafd937f",
   "metadata": {},
   "source": [
    "Agrupamos los ingresos brutos con los meses"
   ]
  },
  {
   "cell_type": "code",
   "execution_count": 19,
   "id": "d17df77c-3973-42c9-9cbc-67f91b0b06a8",
   "metadata": {},
   "outputs": [
    {
     "data": {
      "text/html": [
       "<div>\n",
       "<style scoped>\n",
       "    .dataframe tbody tr th:only-of-type {\n",
       "        vertical-align: middle;\n",
       "    }\n",
       "\n",
       "    .dataframe tbody tr th {\n",
       "        vertical-align: top;\n",
       "    }\n",
       "\n",
       "    .dataframe thead th {\n",
       "        text-align: right;\n",
       "    }\n",
       "</style>\n",
       "<table border=\"1\" class=\"dataframe\">\n",
       "  <thead>\n",
       "    <tr style=\"text-align: right;\">\n",
       "      <th></th>\n",
       "      <th>Beneficio (€)</th>\n",
       "    </tr>\n",
       "    <tr>\n",
       "      <th>Mes</th>\n",
       "      <th></th>\n",
       "    </tr>\n",
       "  </thead>\n",
       "  <tbody>\n",
       "    <tr>\n",
       "      <th>2025-05</th>\n",
       "      <td>6124.97</td>\n",
       "    </tr>\n",
       "    <tr>\n",
       "      <th>2025-06</th>\n",
       "      <td>6440.68</td>\n",
       "    </tr>\n",
       "    <tr>\n",
       "      <th>2025-07</th>\n",
       "      <td>5468.91</td>\n",
       "    </tr>\n",
       "  </tbody>\n",
       "</table>\n",
       "</div>"
      ],
      "text/plain": [
       "         Beneficio (€)\n",
       "Mes                   \n",
       "2025-05        6124.97\n",
       "2025-06        6440.68\n",
       "2025-07        5468.91"
      ]
     },
     "execution_count": 19,
     "metadata": {},
     "output_type": "execute_result"
    }
   ],
   "source": [
    "resumen_mensual = df.groupby(\"Mes\").agg({\"Beneficio (€)\" : \"sum\"}).round(2)\n",
    "resumen_mensual"
   ]
  },
  {
   "cell_type": "markdown",
   "id": "dbd0d47b-181b-4d47-9f6a-00b6baf2e857",
   "metadata": {},
   "source": [
    "**El mes con mas ganancias es junio**"
   ]
  }
 ],
 "metadata": {
  "kernelspec": {
   "display_name": "Python [conda env:base] *",
   "language": "python",
   "name": "conda-base-py"
  },
  "language_info": {
   "codemirror_mode": {
    "name": "ipython",
    "version": 3
   },
   "file_extension": ".py",
   "mimetype": "text/x-python",
   "name": "python",
   "nbconvert_exporter": "python",
   "pygments_lexer": "ipython3",
   "version": "3.13.5"
  }
 },
 "nbformat": 4,
 "nbformat_minor": 5
}
